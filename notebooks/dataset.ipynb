{
 "cells": [
  {
   "cell_type": "code",
   "execution_count": 6,
   "metadata": {
    "collapsed": true
   },
   "outputs": [],
   "source": [
    "import cv2\n",
    "import glob\n",
    "import matplotlib.pyplot as plt\n",
    "import numpy as np\n",
    "import os\n",
    "import shutil\n",
    "\n",
    "%matplotlib inline\n",
    "\n",
    "JPGE_IMAGES_DIR = \"../datasets/VOC2012/JPEGImages/\"\n",
    "SEGMENTATION_CLASS_DIR = \"../datasets/VOC2012/SegmentationClass/\"\n",
    "SEGMENTATION_SETS_DIR = \"../datasets/VOC2012/SegmentationSets/\"\n",
    "\n",
    "TRAIN_SET_DIR = \"../datasets/HUMANS/train/\"\n",
    "VALIDATION_SET_DIR = \"../datasets/HUMANS/validation/\"\n",
    "\n",
    "PERSON_COLOR = (192, 128, 128) # RGB"
   ]
  },
  {
   "cell_type": "code",
   "execution_count": 113,
   "metadata": {
    "collapsed": true
   },
   "outputs": [],
   "source": [
    "def get_person_mask(im):\n",
    "    im_rgb = cv2.cvtColor(im, cv2.COLOR_BGR2RGB)\n",
    "    mask = (im_rgb[:,:,0] == PERSON_COLOR[0]) & (im_rgb[:,:,1] == PERSON_COLOR[1]) & (im_rgb[:,:,2] == PERSON_COLOR[2])\n",
    "    mask = mask.astype(np.uint8)\n",
    "    return mask"
   ]
  },
  {
   "cell_type": "markdown",
   "metadata": {},
   "source": [
    "## Test Mask"
   ]
  },
  {
   "cell_type": "code",
   "execution_count": 117,
   "metadata": {},
   "outputs": [
    {
     "name": "stdout",
     "output_type": "stream",
     "text": [
      "../datasets/VOC2012/SegmentationClass/2007_000170.png\n"
     ]
    },
    {
     "data": {
      "text/plain": [
       "<matplotlib.image.AxesImage at 0x11f52e630>"
      ]
     },
     "execution_count": 117,
     "metadata": {},
     "output_type": "execute_result"
    },
    {
     "data": {
      "image/png": "[encoded data removed]",
      "text/plain": [
       "<matplotlib.figure.Figure at 0x11efe90f0>"
      ]
     },
     "metadata": {},
     "output_type": "display_data"
    }
   ],
   "source": [
    "im = cv2.imread(os.path.join(SEGMENTATION_CLASS_DIR, \"2007_000032.png\"))\n",
    "print(os.path.join(SEGMENTATION_CLASS_DIR, \"2007_000170.png\"))\n",
    "plt.imshow(im[..., ::-1])"
   ]
  },
  {
   "cell_type": "markdown",
   "metadata": {},
   "source": [
    "## Load Mask"
   ]
  },
  {
   "cell_type": "code",
   "execution_count": 65,
   "metadata": {},
   "outputs": [
    {
     "data": {
      "text/plain": [
       "<matplotlib.image.AxesImage at 0x1198da860>"
      ]
     },
     "execution_count": 65,
     "metadata": {},
     "output_type": "execute_result"
    },
    {
     "data": {
      "image/png": "[encoded data removed]",
      "text/plain": [
       "<matplotlib.figure.Figure at 0x119aa9cc0>"
      ]
     },
     "metadata": {},
     "output_type": "display_data"
    }
   ],
   "source": [
    "mask = cv2.imread(os.path.join(TRAIN_SET_DIR, \"segmented\", \"2007_003876.png\"), 0) * 255\n",
    "plt.imshow(mask, cmap='gray')"
   ]
  },
  {
   "cell_type": "markdown",
   "metadata": {},
   "source": [
    "# Create Sets"
   ]
  },
  {
   "cell_type": "code",
   "execution_count": 139,
   "metadata": {
    "collapsed": true
   },
   "outputs": [],
   "source": [
    "def create_dataset(train_file, output_base_dir):\n",
    "    with open(train_file) as f:\n",
    "        for line in f:\n",
    "            line = line.rstrip('\\r\\n')\n",
    "            jpge_image_dir = os.path.join(JPGE_IMAGES_DIR, line + '.jpg')\n",
    "\n",
    "            mask_image = cv2.imread(os.path.join(SEGMENTATION_CLASS_DIR, line + '.png'))\n",
    "            mask_image = get_person_mask(mask_image)\n",
    "\n",
    "            shutil.copyfile(jpge_image_dir, os.path.join(output_base_dir, 'jpge', line + '.jpg'))\n",
    "            cv2.imwrite(os.path.join(output_base_dir, 'segmented', line + '.png'), mask_image)"
   ]
  },
  {
   "cell_type": "markdown",
   "metadata": {},
   "source": [
    "## Create Train Set"
   ]
  },
  {
   "cell_type": "code",
   "execution_count": 140,
   "metadata": {
    "collapsed": true
   },
   "outputs": [],
   "source": [
    "create_dataset(os.path.join(SEGMENTATION_SETS_DIR, 'train.txt'), TRAIN_SET_DIR)"
   ]
  },
  {
   "cell_type": "markdown",
   "metadata": {},
   "source": [
    "## Create Validation Set"
   ]
  },
  {
   "cell_type": "code",
   "execution_count": 141,
   "metadata": {
    "collapsed": true
   },
   "outputs": [],
   "source": [
    "create_dataset(os.path.join(SEGMENTATION_SETS_DIR, 'val.txt'), VALIDATION_SET_DIR)"
   ]
  },
  {
   "cell_type": "markdown",
   "metadata": {
    "collapsed": true
   },
   "source": [
    "## Edit Dataset"
   ]
  },
  {
   "cell_type": "code",
   "execution_count": 21,
   "metadata": {},
   "outputs": [],
   "source": [
    "images = glob.glob(os.path.join('../datasets/HUMANS/train2/', 'jpge/*'))\n",
    "for image in images:\n",
    "    base_image, _ = os.path.splitext(os.path.basename(image))\n",
    "    from_image = os.path.join('../datasets/HUMANS/train/segmented', base_image + '.png')\n",
    "    to_image = os.path.join('../datasets/HUMANS/train2/segmented', base_image + '.png')\n",
    "    shutil.move(from_image, to_image)"
   ]
  },
  {
   "cell_type": "code",
   "execution_count": 24,
   "metadata": {},
   "outputs": [],
   "source": [
    "images = glob.glob(os.path.join('../datasets/HUMANS/validation2/', 'jpge/*'))\n",
    "for image in images:\n",
    "    base_image, _ = os.path.splitext(os.path.basename(image))\n",
    "    from_image = os.path.join('../datasets/HUMANS/validation/segmented', base_image + '.png')\n",
    "    to_image = os.path.join('../datasets/HUMANS/validation2/segmented', base_image + '.png')\n",
    "    shutil.move(from_image, to_image)"
   ]
  },
  {
   "cell_type": "markdown",
   "metadata": {},
   "source": [
    "## Visualize Masks"
   ]
  },
  {
   "cell_type": "code",
   "execution_count": 36,
   "metadata": {},
   "outputs": [],
   "source": [
    "images = glob.glob(os.path.join('../datasets/HUMANS/train/', 'segmented/*'))\n",
    "for image in images:\n",
    "    base_name = os.path.basename(image)\n",
    "    im = cv2.imread(image, 0) * 255\n",
    "    cv2.imwrite(os.path.join('../datasets/HUMANS/train/grayscale_mask', base_name), im)"
   ]
  },
  {
   "cell_type": "markdown",
   "metadata": {},
   "source": [
    "## Compete the Training dataset"
   ]
  },
  {
   "cell_type": "code",
   "execution_count": 48,
   "metadata": {
    "collapsed": true
   },
   "outputs": [],
   "source": [
    "images = glob.glob(os.path.join('../datasets/HUMANS/validation/', 'jpge/*'))[0:181]"
   ]
  },
  {
   "cell_type": "code",
   "execution_count": 49,
   "metadata": {},
   "outputs": [],
   "source": [
    "for image in images:\n",
    "    base_name, _ = os.path.splitext(os.path.basename(image))\n",
    "    from_image = os.path.join('../datasets/HUMANS/validation/jpge/', base_name + '.jpg')\n",
    "    to_image = os.path.join('../datasets/HUMANS/train/jpge/', base_name + '.jpg')\n",
    "    \n",
    "    from_segmented = os.path.join('../datasets/HUMANS/validation/segmented/', base_name + '.png')\n",
    "    to_segmented = os.path.join('../datasets/HUMANS/train/segmented/', base_name + '.png')\n",
    "    \n",
    "    shutil.move(from_image, to_image)\n",
    "    shutil.move(from_segmented, to_segmented)"
   ]
  },
  {
   "cell_type": "markdown",
   "metadata": {},
   "source": [
    "## Misc"
   ]
  },
  {
   "cell_type": "code",
   "execution_count": 66,
   "metadata": {},
   "outputs": [],
   "source": [
    "images = [os.path.splitext(os.path.basename(image))[0] for image in glob.glob(os.path.join('../datasets/HUMANS/validation/', 'jpge/*'))]\n",
    "segmented = [os.path.splitext(os.path.basename(image))[0] for image in glob.glob(os.path.join('../datasets/HUMANS/validation/', 'segmented/*'))]"
   ]
  },
  {
   "cell_type": "code",
   "execution_count": 70,
   "metadata": {},
   "outputs": [],
   "source": [
    "for image in segmented:\n",
    "    if image not in images:\n",
    "        shutil.move(os.path.join('../datasets/HUMANS/validation/segmented', image + '.png'),\n",
    "                   os.path.join('../datasets/HUMANS/validation/', image + '.png'))"
   ]
  },
  {
   "cell_type": "code",
   "execution_count": null,
   "metadata": {
    "collapsed": true
   },
   "outputs": [],
   "source": []
  }
 ],
 "metadata": {
  "kernelspec": {
   "display_name": "Python 3",
   "language": "python",
   "name": "python3"
  },
  "language_info": {
   "codemirror_mode": {
    "name": "ipython",
    "version": 3
   },
   "file_extension": ".py",
   "mimetype": "text/x-python",
   "name": "python",
   "nbconvert_exporter": "python",
   "pygments_lexer": "ipython3",
   "version": "3.6.3"
  }
 },
 "nbformat": 4,
 "nbformat_minor": 2
}
