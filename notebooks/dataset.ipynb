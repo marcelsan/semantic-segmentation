{
 "cells": [
  {
   "cell_type": "code",
   "execution_count": 131,
   "metadata": {
    "collapsed": true
   },
   "outputs": [],
   "source": [
    "import cv2\n",
    "import matplotlib.pyplot as plt\n",
    "import numpy as np\n",
    "import os\n",
    "import shutil\n",
    "\n",
    "%matplotlib inline\n",
    "\n",
    "JPGE_IMAGES_DIR = \"../datasets/VOC2012/JPEGImages/\"\n",
    "SEGMENTATION_CLASS_DIR = \"../datasets/VOC2012/SegmentationClass/\"\n",
    "SEGMENTATION_SETS_DIR = \"../datasets/VOC2012/SegmentationSets/\"\n",
    "\n",
    "TRAIN_SET_DIR = \"../datasets/HUMANS/train/\"\n",
    "VALIDATION_SET_DIR = \"../datasets/HUMANS/validation/\"\n",
    "\n",
    "PERSON_COLOR = (192, 128, 128) # RGB"
   ]
  },
  {
   "cell_type": "code",
   "execution_count": 113,
   "metadata": {
    "collapsed": true
   },
   "outputs": [],
   "source": [
    "def get_person_mask(im):\n",
    "    im_rgb = cv2.cvtColor(im, cv2.COLOR_BGR2RGB)\n",
    "    mask = (im_rgb[:,:,0] == PERSON_COLOR[0]) & (im_rgb[:,:,1] == PERSON_COLOR[1]) & (im_rgb[:,:,2] == PERSON_COLOR[2])\n",
    "    mask = mask.astype(np.uint8)\n",
    "    return mask"
   ]
  },
  {
   "cell_type": "markdown",
   "metadata": {},
   "source": [
    "## Test Mask"
   ]
  },
  {
   "cell_type": "code",
   "execution_count": 117,
   "metadata": {},
   "outputs": [
    {
     "name": "stdout",
     "output_type": "stream",
     "text": [
      "../datasets/VOC2012/SegmentationClass/2007_000170.png\n"
     ]
    },
    {
     "data": {
      "text/plain": [
       "<matplotlib.image.AxesImage at 0x11f52e630>"
      ]
     },
     "execution_count": 117,
     "metadata": {},
     "output_type": "execute_result"
    },
    {
     "data": {
      "image/png": "[encoded data removed]",
      "text/plain": [
       "<matplotlib.figure.Figure at 0x11efe90f0>"
      ]
     },
     "metadata": {},
     "output_type": "display_data"
    }
   ],
   "source": [
    "im = cv2.imread(os.path.join(SEGMENTATION_CLASS_DIR, \"2007_000032.png\"))\n",
    "print(os.path.join(SEGMENTATION_CLASS_DIR, \"2007_000170.png\"))\n",
    "plt.imshow(im[..., ::-1])"
   ]
  },
  {
   "cell_type": "markdown",
   "metadata": {},
   "source": [
    "## Load Mask"
   ]
  },
  {
   "cell_type": "code",
   "execution_count": 138,
   "metadata": {},
   "outputs": [
    {
     "data": {
      "text/plain": [
       "<matplotlib.image.AxesImage at 0x120334668>"
      ]
     },
     "execution_count": 138,
     "metadata": {},
     "output_type": "execute_result"
    },
    {
     "data": {
      "image/png": "[encoded data removed]",
      "text/plain": [
       "<matplotlib.figure.Figure at 0x11ed4e198>"
      ]
     },
     "metadata": {},
     "output_type": "display_data"
    }
   ],
   "source": [
    "mask = cv2.imread(os.path.join(TRAIN_SET_DIR, \"segmented\", \"2007_000032.png\")) * 255\n",
    "plt.imshow(mask)"
   ]
  },
  {
   "cell_type": "markdown",
   "metadata": {},
   "source": [
    "# Create Sets"
   ]
  },
  {
   "cell_type": "code",
   "execution_count": 139,
   "metadata": {
    "collapsed": true
   },
   "outputs": [],
   "source": [
    "def create_dataset(train_file, output_base_dir):\n",
    "    with open(train_file) as f:\n",
    "        for line in f:\n",
    "            line = line.rstrip('\\r\\n')\n",
    "            jpge_image_dir = os.path.join(JPGE_IMAGES_DIR, line + '.jpg')\n",
    "\n",
    "            mask_image = cv2.imread(os.path.join(SEGMENTATION_CLASS_DIR, line + '.png'))\n",
    "            mask_image = get_person_mask(mask_image)\n",
    "\n",
    "            shutil.copyfile(jpge_image_dir, os.path.join(output_base_dir, 'jpge', line + '.jpg'))\n",
    "            cv2.imwrite(os.path.join(output_base_dir, 'segmented', line + '.png'), mask_image)"
   ]
  },
  {
   "cell_type": "markdown",
   "metadata": {},
   "source": [
    "## Create Train Set"
   ]
  },
  {
   "cell_type": "code",
   "execution_count": 140,
   "metadata": {},
   "outputs": [],
   "source": [
    "create_dataset(os.path.join(SEGMENTATION_SETS_DIR, 'train.txt'), TRAIN_SET_DIR)"
   ]
  },
  {
   "cell_type": "markdown",
   "metadata": {},
   "source": [
    "## Create Validation Set"
   ]
  },
  {
   "cell_type": "code",
   "execution_count": 141,
   "metadata": {
    "collapsed": true
   },
   "outputs": [],
   "source": [
    "create_dataset(os.path.join(SEGMENTATION_SETS_DIR, 'val.txt'), VALIDATION_SET_DIR)"
   ]
  },
  {
   "cell_type": "code",
   "execution_count": null,
   "metadata": {
    "collapsed": true
   },
   "outputs": [],
   "source": []
  }
 ],
 "metadata": {
  "kernelspec": {
   "display_name": "Python 3",
   "language": "python",
   "name": "python3"
  },
  "language_info": {
   "codemirror_mode": {
    "name": "ipython",
    "version": 3
   },
   "file_extension": ".py",
   "mimetype": "text/x-python",
   "name": "python",
   "nbconvert_exporter": "python",
   "pygments_lexer": "ipython3",
   "version": "3.6.3"
  }
 },
 "nbformat": 4,
 "nbformat_minor": 2
}
